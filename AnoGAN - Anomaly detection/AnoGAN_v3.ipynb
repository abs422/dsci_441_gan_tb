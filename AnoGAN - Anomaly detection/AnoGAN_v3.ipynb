{
  "nbformat": 4,
  "nbformat_minor": 0,
  "metadata": {
    "colab": {
      "provenance": []
    },
    "kernelspec": {
      "name": "python3",
      "display_name": "Python 3"
    },
    "language_info": {
      "name": "python"
    }
  },
  "cells": [
    {
      "cell_type": "code",
      "execution_count": 1,
      "metadata": {
        "id": "pQuDKANfYwbh"
      },
      "outputs": [],
      "source": [
        "\n",
        "from __future__ import print_function\n",
        "import tensorflow as tf\n",
        "from keras.models import Sequential, Model\n",
        "from keras.layers import Input, Reshape, Dense, Dropout, MaxPooling2D, Conv2D, Flatten\n",
        "from keras.layers import Conv2DTranspose, LeakyReLU\n",
        "from keras.layers.core import Activation\n",
        "from keras.layers import BatchNormalization\n",
        "from keras.optimizers import Adam, RMSprop\n",
        "from keras import backend as K\n",
        "from keras import initializers\n",
        "\n",
        "import numpy as np\n",
        "from tqdm import tqdm\n",
        "import cv2\n",
        "import math\n",
        "\n",
        "from keras.utils. generic_utils import Progbar"
      ]
    },
    {
      "cell_type": "code",
      "source": [
        "### combine images for visualization\n",
        "def combine_images(generated_images):\n",
        "    num = generated_images.shape[0]\n",
        "    width = int(math.sqrt(num))\n",
        "    height = int(math.ceil(float(num)/width))\n",
        "    shape = generated_images.shape[1:4]\n",
        "    image = np.zeros((height*shape[0], width*shape[1], shape[2]),\n",
        "                     dtype=generated_images.dtype)\n",
        "    for index, img in enumerate(generated_images):\n",
        "        i = int(index/width)\n",
        "        j = index % width\n",
        "        image[i*shape[0]:(i+1)*shape[0], j*shape[1]:(j+1)*shape[1],:] = img[:, :, :]\n",
        "    return image\n",
        "\n",
        "### generator model define\n",
        "def generator_model():\n",
        "    inputs = Input((10,))\n",
        "    fc1 = Dense(input_dim=10, units=128*7*7)(inputs)\n",
        "    fc1 = BatchNormalization()(fc1)\n",
        "    fc1 = LeakyReLU(0.2)(fc1)\n",
        "    fc2 = Reshape((7, 7, 128), input_shape=(128*7*7,))(fc1)\n",
        "    up1 = Conv2DTranspose(64, (2, 2), strides=(2, 2), padding='same')(fc2)\n",
        "    conv1 = Conv2D(64, (3, 3), padding='same')(up1)\n",
        "    conv1 = BatchNormalization()(conv1)\n",
        "    conv1 = Activation('relu')(conv1)\n",
        "    up2 = Conv2DTranspose(64, (2, 2), strides=(2, 2), padding='same')(conv1)\n",
        "    conv2 = Conv2D(1, (5, 5), padding='same')(up2)\n",
        "    outputs = Activation('tanh')(conv2)\n",
        "    \n",
        "    model = Model(inputs=[inputs], outputs=[outputs])\n",
        "    return model\n",
        "\n",
        "### discriminator model define\n",
        "def discriminator_model():\n",
        "    inputs = Input((28, 28, 1))\n",
        "    conv1 = Conv2D(64, (5, 5), padding='same')(inputs)\n",
        "    conv1 = LeakyReLU(0.2)(conv1)\n",
        "    pool1 = MaxPooling2D(pool_size=(2, 2))(conv1)\n",
        "    conv2 = Conv2D(128, (5, 5), padding='same')(pool1)\n",
        "    conv2 = LeakyReLU(0.2)(conv2)\n",
        "    pool2 = MaxPooling2D(pool_size=(2, 2))(conv2)\n",
        "    fc1 = Flatten()(pool2)\n",
        "    fc1 = Dense(1)(fc1)\n",
        "    outputs = Activation('sigmoid')(fc1)\n",
        "    \n",
        "    model = Model(inputs=[inputs], outputs=[outputs])\n",
        "    return model\n",
        "\n",
        "### d_on_g model for training generator\n",
        "def generator_containing_discriminator(g, d):\n",
        "    d.trainable = False\n",
        "    ganInput = Input(shape=(10,))\n",
        "    x = g(ganInput)\n",
        "    ganOutput = d(x)\n",
        "    gan = Model(inputs=ganInput, outputs=ganOutput)\n",
        "    # gan.compile(loss='binary_crossentropy', optimizer='adam')\n",
        "    return gan\n",
        "\n",
        "def load_model():\n",
        "    d = discriminator_model()\n",
        "    g = generator_model()\n",
        "    d_optim = RMSprop()\n",
        "    g_optim = RMSprop(lr=0.0002)\n",
        "    g.compile(loss='binary_crossentropy', optimizer=g_optim)\n",
        "    d.compile(loss='binary_crossentropy', optimizer=d_optim)\n",
        "    d.load_weights('./weights/discriminator.h5')\n",
        "    g.load_weights('./weights/generator.h5')\n",
        "    return g, d"
      ],
      "metadata": {
        "id": "QIqUDF5kZBMK"
      },
      "execution_count": 2,
      "outputs": []
    },
    {
      "cell_type": "code",
      "source": [
        "### train generator and discriminator\n",
        "def train(BATCH_SIZE, X_train):\n",
        "    \n",
        "    ### model define\n",
        "    d = discriminator_model()\n",
        "    g = generator_model()\n",
        "    d_on_g = generator_containing_discriminator(g, d)\n",
        "    d_optim = RMSprop(lr=0.0004)\n",
        "    g_optim = RMSprop(lr=0.0002)\n",
        "    g.compile(loss='mse', optimizer=g_optim)\n",
        "    d_on_g.compile(loss='mse', optimizer=g_optim)\n",
        "    d.trainable = True\n",
        "    d.compile(loss='mse', optimizer=d_optim)\n",
        "    \n",
        "\n",
        "    for epoch in range(10):\n",
        "        print (\"Epoch is\", epoch)\n",
        "        n_iter = int(X_train.shape[0]/BATCH_SIZE)\n",
        "        progress_bar = Progbar(target=n_iter)\n",
        "        \n",
        "        for index in range(n_iter):\n",
        "            # create random noise -> U(0,1) 10 latent vectors\n",
        "            noise = np.random.uniform(0, 1, size=(BATCH_SIZE, 10))\n",
        "\n",
        "            # load real data & generate fake data\n",
        "            image_batch = X_train[index*BATCH_SIZE:(index+1)*BATCH_SIZE]\n",
        "            generated_images = g.predict(noise, verbose=0)\n",
        "            \n",
        "            # visualize training results\n",
        "            if index % 20 == 0:\n",
        "                image = combine_images(generated_images)\n",
        "                image = image*127.5+127.5\n",
        "                cv2.imwrite('./result/'+str(epoch)+\"_\"+str(index)+\".png\", image)\n",
        "\n",
        "            # attach label for training discriminator\n",
        "            X = np.concatenate((image_batch, generated_images))\n",
        "            y = np.array([1] * BATCH_SIZE + [0] * BATCH_SIZE)\n",
        "            \n",
        "            # training discriminator\n",
        "            d_loss = d.train_on_batch(X, y)\n",
        "\n",
        "            # training generator\n",
        "            d.trainable = False\n",
        "            g_loss = d_on_g.train_on_batch(noise, np.array([1] * BATCH_SIZE))\n",
        "            d.trainable = True\n",
        "\n",
        "            progress_bar.update(index, values=[('g',g_loss), ('d',d_loss)])\n",
        "        print ('')\n",
        "\n",
        "        # save weights for each epoch\n",
        "        g.save_weights('weights/generator.h5', True)\n",
        "        d.save_weights('weights/discriminator.h5', True)\n",
        "    return d, g\n"
      ],
      "metadata": {
        "id": "npmDzoPwZQvR"
      },
      "execution_count": 3,
      "outputs": []
    },
    {
      "cell_type": "code",
      "source": [
        "### generate images\n",
        "def generate(BATCH_SIZE):\n",
        "    g = generator_model()\n",
        "    g.load_weights('weights/generator.h5')\n",
        "    noise = np.random.uniform(0, 1, (BATCH_SIZE, 10))\n",
        "    generated_images = g.predict(noise)\n",
        "    return generated_images\n",
        "\n",
        "### anomaly loss function \n",
        "def sum_of_residual(y_true, y_pred):\n",
        "    return K.sum(K.abs(y_true - y_pred))\n",
        "\n",
        "### discriminator intermediate layer feautre extraction\n",
        "def feature_extractor(d=None):\n",
        "    if d is None:\n",
        "        d = discriminator_model()\n",
        "        d.load_weights('weights/discriminator.h5') \n",
        "    intermidiate_model = Model(inputs=d.layers[0].input, outputs=d.layers[-7].output)\n",
        "    intermidiate_model.compile(loss='binary_crossentropy', optimizer='rmsprop')\n",
        "    return intermidiate_model\n",
        "\n",
        "### anomaly detection model define\n",
        "def anomaly_detector(g=None, d=None):\n",
        "    if g is None:\n",
        "        g = generator_model()\n",
        "        g.load_weights('weights/generator.h5')\n",
        "    intermidiate_model = feature_extractor(d)\n",
        "    intermidiate_model.trainable = False\n",
        "    g = Model(inputs=g.layers[1].input, outputs=g.layers[-1].output)\n",
        "    g.trainable = False\n",
        "    # Input layer cann't be trained. Add new layer as same size & same distribution\n",
        "    aInput = Input(shape=(10,))\n",
        "    gInput = Dense((10), trainable=True)(aInput)\n",
        "    gInput = Activation('sigmoid')(gInput)\n",
        "    \n",
        "    # G & D feature\n",
        "    G_out = g(gInput)\n",
        "    D_out= intermidiate_model(G_out)    \n",
        "    model = Model(inputs=aInput, outputs=[G_out, D_out])\n",
        "    model.compile(loss=sum_of_residual, loss_weights= [0.90, 0.10], optimizer='rmsprop')\n",
        "    \n",
        "    # batchnorm learning phase fixed (test) : make non trainable\n",
        "    K.set_learning_phase(0)\n",
        "    \n",
        "    return model\n"
      ],
      "metadata": {
        "id": "fNSWUTXNZWFv"
      },
      "execution_count": 4,
      "outputs": []
    },
    {
      "cell_type": "code",
      "source": [
        "### anomaly detection\n",
        "def compute_anomaly_score(model, x, iterations=500, d=None):\n",
        "    z = np.random.uniform(0, 1, size=(1, 10))\n",
        "    \n",
        "    intermidiate_model = feature_extractor(d)\n",
        "    d_x = intermidiate_model.predict(x)\n",
        "\n",
        "    # learning for changing latent\n",
        "    loss = model.fit(z, [x, d_x], batch_size=1, epochs=iterations, verbose=0)\n",
        "    similar_data, _ = model.predict(z)\n",
        "    \n",
        "    loss = loss.history['loss'][-1]\n",
        "    \n",
        "    return loss, similar_data"
      ],
      "metadata": {
        "id": "SLvwv472ZZMz"
      },
      "execution_count": 5,
      "outputs": []
    },
    {
      "cell_type": "code",
      "source": [
        "pip install PyQt5"
      ],
      "metadata": {
        "colab": {
          "base_uri": "https://localhost:8080/"
        },
        "id": "lJq4thU3ZeWN",
        "outputId": "77f9d79e-1057-4367-8848-66ba2a5b692f"
      },
      "execution_count": 6,
      "outputs": [
        {
          "output_type": "stream",
          "name": "stdout",
          "text": [
            "Looking in indexes: https://pypi.org/simple, https://us-python.pkg.dev/colab-wheels/public/simple/\n",
            "Collecting PyQt5\n",
            "  Downloading PyQt5-5.15.9-cp37-abi3-manylinux_2_17_x86_64.whl (8.4 MB)\n",
            "\u001b[2K     \u001b[90m━━━━━━━━━━━━━━━━━━━━━━━━━━━━━━━━━━━━━━━━\u001b[0m \u001b[32m8.4/8.4 MB\u001b[0m \u001b[31m9.3 MB/s\u001b[0m eta \u001b[36m0:00:00\u001b[0m\n",
            "\u001b[?25hCollecting PyQt5-Qt5>=5.15.2\n",
            "  Downloading PyQt5_Qt5-5.15.2-py3-none-manylinux2014_x86_64.whl (59.9 MB)\n",
            "\u001b[2K     \u001b[90m━━━━━━━━━━━━━━━━━━━━━━━━━━━━━━━━━━━━━━━━\u001b[0m \u001b[32m59.9/59.9 MB\u001b[0m \u001b[31m9.2 MB/s\u001b[0m eta \u001b[36m0:00:00\u001b[0m\n",
            "\u001b[?25hCollecting PyQt5-sip<13,>=12.11\n",
            "  Downloading PyQt5_sip-12.11.1-cp38-cp38-manylinux_2_5_x86_64.manylinux1_x86_64.whl (361 kB)\n",
            "\u001b[2K     \u001b[90m━━━━━━━━━━━━━━━━━━━━━━━━━━━━━━━━━━━━━━\u001b[0m \u001b[32m361.8/361.8 KB\u001b[0m \u001b[31m19.7 MB/s\u001b[0m eta \u001b[36m0:00:00\u001b[0m\n",
            "\u001b[?25hInstalling collected packages: PyQt5-Qt5, PyQt5-sip, PyQt5\n",
            "Successfully installed PyQt5-5.15.9 PyQt5-Qt5-5.15.2 PyQt5-sip-12.11.1\n"
          ]
        }
      ]
    },
    {
      "cell_type": "code",
      "source": [
        "from __future__ import print_function\n",
        "\n",
        "import matplotlib\n",
        "matplotlib.use('Agg')\n",
        "# import matplotlib.pyplot as plt\n",
        "import os\n",
        "import cv2\n",
        "import numpy as np\n",
        "%matplotlib inline\n",
        "import matplotlib.pyplot as plt\n",
        "from keras.datasets import mnist\n",
        "import argparse\n",
        "\n",
        "import argparse\n",
        "# import anogan\n",
        "import h5py"
      ],
      "metadata": {
        "id": "Nme9h1QMZtnz"
      },
      "execution_count": 27,
      "outputs": []
    },
    {
      "cell_type": "code",
      "source": [
        "os.chdir('/content/drive/MyDrive/DSCI 441 - Anomaly detection in images')\n",
        "\n",
        "os.environ['TF_CPP_MIN_LOG_LEVEL'] = '2'\n",
        "\n",
        "if not os.path.isdir(\"/content/drive/MyDrive/DSCI 441 - Anomaly detection in images\"):\n",
        "\tos.mkdir(\"/content/drive/MyDrive/DSCI 441 - Anomaly detection in images\")\n",
        "\n"
      ],
      "metadata": {
        "id": "AQshxD2pZlXn"
      },
      "execution_count": 13,
      "outputs": []
    },
    {
      "cell_type": "code",
      "source": [
        "# parser = argparse.ArgumentParser()\n",
        "# parser.add_argument('--img_idx', type=int, default=14)\n",
        "# parser.add_argument('--label_idx', type=int, default=7)\n",
        "# parser.add_argument('--mode', type=str, default='test', help='train, test')\n",
        "# args = parser.parse_args()\n",
        "# parser.parse_args()"
      ],
      "metadata": {
        "id": "RIbaouG4weAG"
      },
      "execution_count": null,
      "outputs": []
    },
    {
      "cell_type": "code",
      "source": [
        "### 0. prepare data\n",
        "(X_train, y_train), (X_test, y_test) = mnist.load_data()\n",
        "X_train = (X_train.astype(np.float32) - 127.5) / 127.5\n",
        "X_test = (X_test.astype(np.float32) - 127.5) / 127.5\n",
        "\n",
        "X_train = X_train[:,:,:,None]\n",
        "X_test = X_test[:,:,:,None]\n",
        "\n",
        "X_test_original = X_test.copy()\n",
        "\n",
        "X_train = X_train[y_train==1]\n",
        "X_test = X_test[y_test==1]\n",
        "print ('train shape:', X_train.shape)\n",
        "print ('test shape:', X_test.shape)"
      ],
      "metadata": {
        "colab": {
          "base_uri": "https://localhost:8080/"
        },
        "id": "ytFpK7snawwZ",
        "outputId": "b011b79d-8544-4a0a-950d-380165a1ef5f"
      },
      "execution_count": 9,
      "outputs": [
        {
          "output_type": "stream",
          "name": "stdout",
          "text": [
            "Downloading data from https://storage.googleapis.com/tensorflow/tf-keras-datasets/mnist.npz\n",
            "11490434/11490434 [==============================] - 0s 0us/step\n",
            "train shape: (6742, 28, 28, 1)\n",
            "test shape: (1135, 28, 28, 1)\n"
          ]
        }
      ]
    },
    {
      "cell_type": "code",
      "source": [
        "### 1. train generator & discriminator\n",
        "Model_d, Model_g = train(64, X_train)"
      ],
      "metadata": {
        "colab": {
          "base_uri": "https://localhost:8080/"
        },
        "id": "yHn0gYkhbGfh",
        "outputId": "345178d6-a956-4c2d-a779-b8395909ddf8"
      },
      "execution_count": 10,
      "outputs": [
        {
          "metadata": {
            "tags": null
          },
          "name": "stderr",
          "output_type": "stream",
          "text": [
            "/usr/local/lib/python3.8/dist-packages/keras/optimizers/optimizer_v2/rmsprop.py:143: UserWarning: The `lr` argument is deprecated, use `learning_rate` instead.\n",
            "  super().__init__(name, **kwargs)\n"
          ]
        },
        {
          "output_type": "stream",
          "name": "stdout",
          "text": [
            "Epoch is 0\n",
            "104/105 [============================>.] - ETA: 2s - g: 0.0146 - d: 0.0197\n",
            "Epoch is 1\n",
            "104/105 [============================>.] - ETA: 2s - g: 0.0091 - d: 0.0248\n",
            "Epoch is 2\n",
            "104/105 [============================>.] - ETA: 2s - g: 0.1492 - d: 0.1510\n",
            "Epoch is 3\n",
            "104/105 [============================>.] - ETA: 2s - g: 0.0757 - d: 0.1739\n",
            "Epoch is 4\n",
            "104/105 [============================>.] - ETA: 2s - g: 0.0612 - d: 0.1664\n",
            "Epoch is 5\n",
            "104/105 [============================>.] - ETA: 2s - g: 0.2587 - d: 0.2235\n",
            "Epoch is 6\n",
            "104/105 [============================>.] - ETA: 2s - g: 0.2096 - d: 0.2155\n",
            "Epoch is 7\n",
            "104/105 [============================>.] - ETA: 2s - g: 0.1356 - d: 0.1696\n",
            "Epoch is 8\n",
            "104/105 [============================>.] - ETA: 2s - g: 0.1600 - d: 0.1377\n",
            "Epoch is 9\n",
            "104/105 [============================>.] - ETA: 2s - g: 0.0730 - d: 0.1065\n"
          ]
        }
      ]
    },
    {
      "cell_type": "code",
      "source": [
        "### 2. test generator\n",
        "generated_img = generate(25)\n",
        "img = combine_images(generated_img)\n",
        "img = (img*127.5)+127.5\n",
        "img = img.astype(np.uint8)\n",
        "img = cv2.resize(img, None, fx=4, fy=4, interpolation=cv2.INTER_NEAREST)"
      ],
      "metadata": {
        "colab": {
          "base_uri": "https://localhost:8080/"
        },
        "id": "WnH2fv1UmZxk",
        "outputId": "d1724698-bf2d-48e2-9e63-7ab482890b2a"
      },
      "execution_count": 11,
      "outputs": [
        {
          "output_type": "stream",
          "name": "stdout",
          "text": [
            "1/1 [==============================] - 0s 476ms/step\n"
          ]
        }
      ]
    },
    {
      "cell_type": "code",
      "source": [
        "def anomaly_detection(test_img, g=None, d=None):\n",
        "    model = anomaly_detector(g=g, d=d)\n",
        "    ano_score, similar_img = compute_anomaly_score(model, test_img.reshape(1, 28, 28, 1), iterations=500, d=d)\n",
        "\n",
        "    # anomaly area, 255 normalization\n",
        "    np_residual = test_img.reshape(28,28,1) - similar_img.reshape(28,28,1)\n",
        "    np_residual = (np_residual + 2)/4\n",
        "\n",
        "    np_residual = (255*np_residual).astype(np.uint8)\n",
        "    original_x = (test_img.reshape(28,28,1)*127.5+127.5).astype(np.uint8)\n",
        "    similar_x = (similar_img.reshape(28,28,1)*127.5+127.5).astype(np.uint8)\n",
        "\n",
        "    original_x_color = cv2.cvtColor(original_x, cv2.COLOR_GRAY2BGR)\n",
        "    residual_color = cv2.applyColorMap(np_residual, cv2.COLORMAP_JET)\n",
        "    show = cv2.addWeighted(original_x_color, 0.3, residual_color, 0.7, 0.)\n",
        "\n",
        "    return ano_score, original_x, similar_x, show"
      ],
      "metadata": {
        "id": "7WPasiu4mhP4"
      },
      "execution_count": 12,
      "outputs": []
    },
    {
      "cell_type": "code",
      "source": [
        "img_idx = int(input(\"Enter the value of img_idx: \"))\n",
        "\n",
        "label_idx = int(input(\"Enter the value of label_idx: \"))\n",
        "\n",
        "mode = str(input(\"Enter the value of mode (train/test): \"))"
      ],
      "metadata": {
        "colab": {
          "base_uri": "https://localhost:8080/"
        },
        "id": "kALh9SUPycYx",
        "outputId": "a146c8c0-cde0-4fdc-bd0e-084eb7d80ac1"
      },
      "execution_count": 43,
      "outputs": [
        {
          "name": "stdout",
          "output_type": "stream",
          "text": [
            "Enter the value of img_idx: 14\n",
            "Enter the value of label_idx: 6\n",
            "Enter the value of mode (train/test): train\n"
          ]
        }
      ]
    },
    {
      "cell_type": "code",
      "source": [
        "X_test_original[y_test==14][img_idx]"
      ],
      "metadata": {
        "id": "ZQuSzzLF2xQz"
      },
      "execution_count": null,
      "outputs": []
    },
    {
      "cell_type": "code",
      "source": [
        "### compute anomaly score - sample from strange image\n",
        "img_idx = img_idx\n",
        "label_idx = label_idx\n",
        "test_img = X_test_original[y_test==label_idx][img_idx]\n",
        "# test_img = np.random.uniform(-1,1, (28,28,1))\n",
        "\n",
        "start = cv2.getTickCount()\n",
        "score, qurey, pred, diff = anomaly_detection(test_img)\n",
        "time = (cv2.getTickCount() - start) / cv2.getTickFrequency() * 1000\n",
        "print ('%d label, %d : done'%(label_idx, img_idx), '%.2f'%score, '%.2fms'%time)\n",
        "# cv2.imwrite('./qurey.png', qurey)\n",
        "# cv2.imwrite('./pred.png', pred)\n",
        "# cv2.imwrite('./diff.png', diff)\n",
        "\n",
        "## matplot view\n",
        "plt.figure(1, figsize=(3, 3))\n",
        "plt.title('query image')\n",
        "plt.imshow(qurey.reshape(28,28), cmap=plt.cm.gray)\n",
        "\n",
        "print(\"anomaly score : \", score)\n",
        "plt.figure(2, figsize=(3, 3))\n",
        "plt.title('generated similar image')\n",
        "plt.imshow(pred.reshape(28,28), cmap=plt.cm.gray)\n",
        "\n",
        "plt.figure(3, figsize=(3, 3))\n",
        "plt.title('anomaly detection')\n",
        "plt.imshow(cv2.cvtColor(diff,cv2.COLOR_BGR2RGB))\n",
        "plt.show()"
      ],
      "metadata": {
        "colab": {
          "base_uri": "https://localhost:8080/",
          "height": 771
        },
        "id": "nzHZSu7impG5",
        "outputId": "29aa530d-e009-4d98-9e81-cf00603b2dd5"
      },
      "execution_count": 44,
      "outputs": [
        {
          "output_type": "stream",
          "name": "stderr",
          "text": [
            "/usr/local/lib/python3.8/dist-packages/keras/backend.py:451: UserWarning: `tf.keras.backend.set_learning_phase` is deprecated and will be removed after 2020-10-11. To update it, simply pass a True/False value to the `training` argument of the `__call__` method of your layer or model.\n",
            "  warnings.warn(\n"
          ]
        },
        {
          "output_type": "stream",
          "name": "stdout",
          "text": [
            "1/1 [==============================] - 0s 115ms/step\n",
            "1/1 [==============================] - 0s 297ms/step\n",
            "6 label, 14 : done 239.15 11395.27ms\n",
            "anomaly score :  239.1462860107422\n"
          ]
        },
        {
          "output_type": "display_data",
          "data": {
            "text/plain": [
              "<Figure size 216x216 with 1 Axes>"
            ],
            "image/png": "[encoded data removed]"
          },
          "metadata": {
            "needs_background": "light"
          }
        },
        {
          "output_type": "display_data",
          "data": {
            "text/plain": [
              "<Figure size 216x216 with 1 Axes>"
            ],
            "image/png": "[encoded data removed]"
          },
          "metadata": {
            "needs_background": "light"
          }
        },
        {
          "output_type": "display_data",
          "data": {
            "text/plain": [
              "<Figure size 216x216 with 1 Axes>"
            ],
            "image/png": "[encoded data removed]"
          },
          "metadata": {
            "needs_background": "light"
          }
        }
      ]
    },
    {
      "cell_type": "code",
      "source": [
        "### 4. tsne feature view\n",
        "\n",
        "### t-SNE embedding \n",
        "### generating anomaly image for test (radom noise image)\n",
        "\n",
        "from sklearn.manifold import TSNE\n",
        "\n",
        "random_image = np.random.uniform(0, 1, (100, 28, 28, 1))\n",
        "print(\"random noise image\")\n",
        "plt.figure(4, figsize=(2, 2))\n",
        "plt.title('random noise image')\n",
        "plt.imshow(random_image[0].reshape(28,28), cmap=plt.cm.gray)\n",
        "\n",
        "# intermidieate output of discriminator\n",
        "model = feature_extractor()\n",
        "feature_map_of_random = model.predict(random_image, verbose=1)\n",
        "feature_map_of_minist = model.predict(X_test_original[y_test != 1][:300], verbose=1)\n",
        "feature_map_of_minist_1 = model.predict(X_test[:100], verbose=1)\n",
        "\n",
        "# t-SNE for visulization\n",
        "output = np.concatenate((feature_map_of_random, feature_map_of_minist, feature_map_of_minist_1))\n",
        "output = output.reshape(output.shape[0], -1)\n",
        "anomaly_flag = np.array([1]*100+ [0]*300)\n",
        "\n",
        "X_embedded = TSNE(n_components=2).fit_transform(output)\n",
        "plt.figure(5)\n",
        "plt.title(\"t-SNE embedding on the feature representation\")\n",
        "plt.scatter(X_embedded[:100,0], X_embedded[:100,1], label='random noise(anomaly)')\n",
        "plt.scatter(X_embedded[100:400,0], X_embedded[100:400,1], label='mnist(anomaly)')\n",
        "plt.scatter(X_embedded[400:,0], X_embedded[400:,1], label='mnist(normal)')\n",
        "plt.legend()\n",
        "plt.show()"
      ],
      "metadata": {
        "colab": {
          "base_uri": "https://localhost:8080/",
          "height": 506
        },
        "id": "rCN6ZE_XmxUv",
        "outputId": "5ece5a54-5500-4616-b343-b11258131376"
      },
      "execution_count": 45,
      "outputs": [
        {
          "output_type": "stream",
          "name": "stdout",
          "text": [
            "random noise image\n",
            "4/4 [==============================] - 0s 13ms/step\n",
            "10/10 [==============================] - 0s 13ms/step\n",
            "4/4 [==============================] - 0s 23ms/step\n"
          ]
        },
        {
          "output_type": "display_data",
          "data": {
            "text/plain": [
              "<Figure size 144x144 with 1 Axes>"
            ],
            "image/png": "[encoded data removed]"
          },
          "metadata": {
            "needs_background": "light"
          }
        },
        {
          "output_type": "display_data",
          "data": {
            "text/plain": [
              "<Figure size 432x288 with 1 Axes>"
            ],
            "image/png": "[encoded data removed]"
          },
          "metadata": {
            "needs_background": "light"
          }
        }
      ]
    }
  ]
}